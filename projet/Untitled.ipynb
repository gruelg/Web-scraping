{
 "cells": [
  {
   "cell_type": "code",
   "execution_count": 176,
   "metadata": {},
   "outputs": [],
   "source": [
    "from bs4 import BeautifulSoup\n",
    "import pandas as pd\n",
    "import requests\n",
    "import re"
   ]
  },
  {
   "cell_type": "markdown",
   "metadata": {},
   "source": [
    "### Récuperation de la liste des plateformes de jeu "
   ]
  },
  {
   "cell_type": "code",
   "execution_count": 106,
   "metadata": {
    "scrolled": true
   },
   "outputs": [],
   "source": [
    "r = requests.get('https://www.dureedevie.fr')\n",
    "request_text = r.text\n",
    "soup = BeautifulSoup(request_text)\n",
    "plateformes = []\n",
    "for a in soup.find_all(\"a\", {\"class\": \"text-lg text-gray-900 font-medium hover:text-gray-600\"}) :\n",
    "    plateformes.append([a.text, a.get('href')])\n"
   ]
  },
  {
   "cell_type": "code",
   "execution_count": 107,
   "metadata": {
    "scrolled": false
   },
   "outputs": [
    {
     "data": {
      "text/plain": [
       "[['Nos conseils jeux pour Noël', '/piles/nos-conseils-jeux-pour-noel'],\n",
       " ['Game Awards 2021', '/piles/game-awards-2021'],\n",
       " ['XBOX Game Pass', '/piles/xbox-game-pass'],\n",
       " ['Apple Arcade', '/piles/apple-arcade'],\n",
       " ['Attentes 2021', '/piles/attentes-2021'],\n",
       " ['Attentes 2022', '/piles/attentes-2022'],\n",
       " ['Bandes originales', '/piles/bandes-originales'],\n",
       " ['Gamekult Awards 2020', '/piles/gamekult-awards-2020'],\n",
       " ['Pégases 2021', '/piles/pegases-2021'],\n",
       " ['Game Awards 2020', '/piles/game-awards-2020'],\n",
       " ['Pégases 2020', '/piles/pegases-2020'],\n",
       " [\"Pixel d'Or 2019\", '/piles/pixel-d-or-2019'],\n",
       " ['Game Awards 2019', '/piles/game-awards-2019'],\n",
       " ['Android', '/plateformes/android'],\n",
       " ['Game Boy Advance', '/plateformes/game-boy-advance'],\n",
       " ['Game Boy Color', '/plateformes/game-boy-color'],\n",
       " ['Google Stadia', '/plateformes/google-stadia'],\n",
       " ['iPhone OS (iOS)', '/plateformes/iphone-os-ios'],\n",
       " ['Linux', '/plateformes/linux'],\n",
       " ['Mac', '/plateformes/mac'],\n",
       " ['Megadrive', '/plateformes/megadrive'],\n",
       " ['NES', '/plateformes/nes'],\n",
       " ['Nintendo 3DS', '/plateformes/nintendo-3ds'],\n",
       " ['Nintendo 64', '/plateformes/nintendo-64'],\n",
       " ['Nintendo DS', '/plateformes/nintendo-ds'],\n",
       " ['Nintendo Gamecube', '/plateformes/nintendo-gamecube'],\n",
       " ['Nintendo Switch', '/plateformes/nintendo-switch'],\n",
       " ['Oculus Quest', '/plateformes/oculus-quest'],\n",
       " ['PC', '/plateformes/pc'],\n",
       " ['PC VR', '/plateformes/pc-vr'],\n",
       " ['PlayStation', '/plateformes/playstation'],\n",
       " ['PlayStation 2', '/plateformes/playstation-2'],\n",
       " ['PlayStation 3', '/plateformes/playstation-3'],\n",
       " ['PlayStation 4', '/plateformes/playstation-4'],\n",
       " ['PlayStation 5', '/plateformes/playstation-5'],\n",
       " ['PlayStation Portable', '/plateformes/playstation-portable'],\n",
       " ['PlayStation Vita', '/plateformes/playstation-vita'],\n",
       " ['PlayStation VR', '/plateformes/playstation-vr'],\n",
       " ['Saturn', '/plateformes/saturn'],\n",
       " ['Super Nintendo', '/plateformes/super-nintendo'],\n",
       " ['Wii', '/plateformes/wii'],\n",
       " ['Wii U', '/plateformes/wii-u'],\n",
       " ['Xbox', '/plateformes/xbox'],\n",
       " ['Xbox 360', '/plateformes/xbox-360'],\n",
       " ['Xbox One', '/plateformes/xbox-one'],\n",
       " ['Xbox Series X/S', '/plateformes/xbox-series-x-s']]"
      ]
     },
     "execution_count": 107,
     "metadata": {},
     "output_type": "execute_result"
    }
   ],
   "source": [
    "plateformes"
   ]
  },
  {
   "cell_type": "markdown",
   "metadata": {},
   "source": [
    "### Suppression des classements"
   ]
  },
  {
   "cell_type": "code",
   "execution_count": 108,
   "metadata": {},
   "outputs": [],
   "source": [
    "for i in range(0,13,1):\n",
    "    plateformes.pop(0)"
   ]
  },
  {
   "cell_type": "code",
   "execution_count": 109,
   "metadata": {
    "collapsed": true
   },
   "outputs": [
    {
     "data": {
      "text/plain": [
       "[['Android', '/plateformes/android'],\n",
       " ['Game Boy Advance', '/plateformes/game-boy-advance'],\n",
       " ['Game Boy Color', '/plateformes/game-boy-color'],\n",
       " ['Google Stadia', '/plateformes/google-stadia'],\n",
       " ['iPhone OS (iOS)', '/plateformes/iphone-os-ios'],\n",
       " ['Linux', '/plateformes/linux'],\n",
       " ['Mac', '/plateformes/mac'],\n",
       " ['Megadrive', '/plateformes/megadrive'],\n",
       " ['NES', '/plateformes/nes'],\n",
       " ['Nintendo 3DS', '/plateformes/nintendo-3ds'],\n",
       " ['Nintendo 64', '/plateformes/nintendo-64'],\n",
       " ['Nintendo DS', '/plateformes/nintendo-ds'],\n",
       " ['Nintendo Gamecube', '/plateformes/nintendo-gamecube'],\n",
       " ['Nintendo Switch', '/plateformes/nintendo-switch'],\n",
       " ['Oculus Quest', '/plateformes/oculus-quest'],\n",
       " ['PC', '/plateformes/pc'],\n",
       " ['PC VR', '/plateformes/pc-vr'],\n",
       " ['PlayStation', '/plateformes/playstation'],\n",
       " ['PlayStation 2', '/plateformes/playstation-2'],\n",
       " ['PlayStation 3', '/plateformes/playstation-3'],\n",
       " ['PlayStation 4', '/plateformes/playstation-4'],\n",
       " ['PlayStation 5', '/plateformes/playstation-5'],\n",
       " ['PlayStation Portable', '/plateformes/playstation-portable'],\n",
       " ['PlayStation Vita', '/plateformes/playstation-vita'],\n",
       " ['PlayStation VR', '/plateformes/playstation-vr'],\n",
       " ['Saturn', '/plateformes/saturn'],\n",
       " ['Super Nintendo', '/plateformes/super-nintendo'],\n",
       " ['Wii', '/plateformes/wii'],\n",
       " ['Wii U', '/plateformes/wii-u'],\n",
       " ['Xbox', '/plateformes/xbox'],\n",
       " ['Xbox 360', '/plateformes/xbox-360'],\n",
       " ['Xbox One', '/plateformes/xbox-one'],\n",
       " ['Xbox Series X/S', '/plateformes/xbox-series-x-s']]"
      ]
     },
     "execution_count": 109,
     "metadata": {},
     "output_type": "execute_result"
    }
   ],
   "source": [
    "plateformes"
   ]
  },
  {
   "cell_type": "markdown",
   "metadata": {},
   "source": [
    "### récuperation de tous les jeux sur toutes les plateformes"
   ]
  },
  {
   "cell_type": "code",
   "execution_count": 238,
   "metadata": {
    "scrolled": true
   },
   "outputs": [
    {
     "name": "stdout",
     "output_type": "stream",
     "text": [
      "Wall time: 3min 12s\n"
     ]
    }
   ],
   "source": [
    "%%time\n",
    "listeJeux = []\n",
    "#recuperation de la liste des jeux pour toutes les plateformes\n",
    "for plateforme in plateformes :\n",
    "    r = requests.get('https://www.dureedevie.fr{}'.format(plateforme[1]))\n",
    "    request_text = r.text\n",
    "    soup = BeautifulSoup(request_text)\n",
    "    #pour chaque jeu\n",
    "    for a in soup.find_all(\"a\", {\"class\": \"underline\"}) :\n",
    "        r = requests.get('https://www.dureedevie.fr{}'.format(a.get('href')))\n",
    "        request_text = r.text\n",
    "        soup = BeautifulSoup(request_text)\n",
    "        data = []\n",
    "        for dd in soup.find_all(\"dd\"):\n",
    "            data.append(dd.text)\n",
    "        while len(data) <9 :\n",
    "            data.insert(0,'N/A')\n",
    "        if len(data) == 9 : \n",
    "            listeJeux.append([a.text ,plateforme[0], data])\n",
    "        #print(listeJeux)"
   ]
  },
  {
   "cell_type": "code",
   "execution_count": 239,
   "metadata": {
    "scrolled": true
   },
   "outputs": [
    {
     "data": {
      "text/plain": [
       "2184"
      ]
     },
     "execution_count": 239,
     "metadata": {},
     "output_type": "execute_result"
    }
   ],
   "source": [
    "len(listeJeux)"
   ]
  },
  {
   "cell_type": "code",
   "execution_count": 250,
   "metadata": {},
   "outputs": [
    {
     "data": {
      "text/plain": [
       "['N/A',\n",
       " 'N/A',\n",
       " 'N/A',\n",
       " 'N/A',\n",
       " 'Course/Conduite',\n",
       " 'Nintendo Switch, Android, iPhone OS (iOS)',\n",
       " 'Pixel Perfect Dude, Lionsharp Studios',\n",
       " 'Pixel Perfect Dude, PM Studios',\n",
       " '20/03/2019']"
      ]
     },
     "execution_count": 250,
     "metadata": {},
     "output_type": "execute_result"
    }
   ],
   "source": [
    "listeJeux[0][2]"
   ]
  },
  {
   "cell_type": "code",
   "execution_count": 251,
   "metadata": {
    "scrolled": false
   },
   "outputs": [],
   "source": [
    "d = { 'titre': [listeJeux[i][0] for i in range(len(listeJeux))],\n",
    "    'Temps de jeu moyen' : [listeJeux[i][2][0] for i in range(len(listeJeux))],\n",
    "     'Histoire  Trame principale' : [listeJeux[i][2][1] for i in range(len(listeJeux))],\n",
    "     'Histoire + Quêtes secondaires' : [listeJeux[i][2][2] for i in range(len(listeJeux))],\n",
    "     'Complétionniste (100%)' : [listeJeux[i][2][3] for i in range(len(listeJeux))],\n",
    "     'Genres' : [listeJeux[i][2][4] for i in range(len(listeJeux))],\n",
    "     'Plateformes' : [listeJeux[i][1] for i in range(len(listeJeux))],\n",
    "     'Développeur' : [listeJeux[i][2][6] for i in range(len(listeJeux))],\n",
    "     'Editeur' : [listeJeux[i][2][7] for i in range(len(listeJeux))],\n",
    "     'Date de sortie' : [listeJeux[i][2][8] for i in range(len(listeJeux))]\n",
    "    }\n",
    "df = pd.DataFrame(data=d)\n",
    "df.to_csv(r'dataframe.csv',sep=';')"
   ]
  },
  {
   "cell_type": "markdown",
   "metadata": {},
   "source": [
    "## Clean du csv"
   ]
  },
  {
   "cell_type": "code",
   "execution_count": null,
   "metadata": {},
   "outputs": [],
   "source": []
  },
  {
   "cell_type": "markdown",
   "metadata": {},
   "source": [
    "### Converstion String to Datetime"
   ]
  },
  {
   "cell_type": "code",
   "execution_count": null,
   "metadata": {},
   "outputs": [],
   "source": [
    "df['Date de sortie'] = pd.to_datetime(df['Date de sortie'], format='%d/%m/%Y',errors='coerce')"
   ]
  },
  {
   "cell_type": "markdown",
   "metadata": {},
   "source": [
    "## Analytics"
   ]
  },
  {
   "cell_type": "markdown",
   "metadata": {},
   "source": [
    "### Nombres de jeux par plateformes"
   ]
  },
  {
   "cell_type": "code",
   "execution_count": 268,
   "metadata": {},
   "outputs": [
    {
     "data": {
      "text/plain": [
       "PC                   546\n",
       "PlayStation 4        362\n",
       "Nintendo Switch      322\n",
       "Xbox One             302\n",
       "PlayStation 5        128\n",
       "Xbox Series X/S      123\n",
       "iPhone OS (iOS)       94\n",
       "Mac                   66\n",
       "Android               58\n",
       "Google Stadia         41\n",
       "PlayStation 3         24\n",
       "PlayStation Vita      20\n",
       "Xbox 360              18\n",
       "Linux                 16\n",
       "Oculus Quest          13\n",
       "PlayStation VR        11\n",
       "Wii U                  7\n",
       "PC VR                  7\n",
       "Nintendo 3DS           7\n",
       "Wii                    4\n",
       "Xbox                   4\n",
       "PlayStation 2          3\n",
       "Nintendo DS            2\n",
       "Nintendo Gamecube      2\n",
       "PlayStation            1\n",
       "Megadrive              1\n",
       "Nintendo 64            1\n",
       "Saturn                 1\n",
       "Name: Plateformes, dtype: int64"
      ]
     },
     "execution_count": 268,
     "metadata": {},
     "output_type": "execute_result"
    }
   ],
   "source": [
    "df['Plateformes'].value_counts()"
   ]
  },
  {
   "cell_type": "code",
   "execution_count": 275,
   "metadata": {},
   "outputs": [
    {
     "name": "stdout",
     "output_type": "stream",
     "text": [
      "titre                            object\n",
      "Temps de jeu moyen               object\n",
      "Histoire  Trame principale       object\n",
      "Histoire + Quêtes secondaires    object\n",
      "Complétionniste (100%)           object\n",
      "Genres                           object\n",
      "Plateformes                      object\n",
      "Développeur                      object\n",
      "Editeur                          object\n",
      "Date de sortie                   object\n",
      "dtype: object\n"
     ]
    }
   ],
   "source": [
    "print (df.dtypes)"
   ]
  },
  {
   "cell_type": "code",
   "execution_count": 292,
   "metadata": {},
   "outputs": [
    {
     "data": {
      "text/plain": [
       "2021.0    995\n",
       "2020.0    340\n",
       "2019.0    267\n",
       "2018.0    144\n",
       "2016.0     90\n",
       "2017.0     83\n",
       "2015.0     49\n",
       "2013.0     45\n",
       "2014.0     32\n",
       "2011.0     22\n",
       "2010.0     22\n",
       "2009.0     20\n",
       "2012.0     18\n",
       "2008.0     14\n",
       "2003.0     10\n",
       "1998.0      7\n",
       "2007.0      5\n",
       "2006.0      5\n",
       "1996.0      3\n",
       "2004.0      2\n",
       "2002.0      1\n",
       "Name: Date de sortie, dtype: int64"
      ]
     },
     "execution_count": 292,
     "metadata": {},
     "output_type": "execute_result"
    }
   ],
   "source": [
    "df['Date de sortie'].dt.year.value_counts()"
   ]
  },
  {
   "cell_type": "code",
   "execution_count": 280,
   "metadata": {},
   "outputs": [
    {
     "data": {
      "text/plain": [
       "0      2019-03-20\n",
       "1      2015-02-25\n",
       "2      2018-11-16\n",
       "3      2016-03-03\n",
       "4      2019-06-18\n",
       "          ...    \n",
       "2179   2021-07-06\n",
       "2180   2021-02-04\n",
       "2181   2020-12-01\n",
       "2182   2020-03-06\n",
       "2183   2021-09-30\n",
       "Name: Date de sortie, Length: 2184, dtype: datetime64[ns]"
      ]
     },
     "execution_count": 280,
     "metadata": {},
     "output_type": "execute_result"
    }
   ],
   "source": [
    "df['Date de sortie']"
   ]
  },
  {
   "cell_type": "code",
   "execution_count": null,
   "metadata": {},
   "outputs": [],
   "source": []
  }
 ],
 "metadata": {
  "kernelspec": {
   "display_name": "Python 3",
   "language": "python",
   "name": "python3"
  },
  "language_info": {
   "codemirror_mode": {
    "name": "ipython",
    "version": 3
   },
   "file_extension": ".py",
   "mimetype": "text/x-python",
   "name": "python",
   "nbconvert_exporter": "python",
   "pygments_lexer": "ipython3",
   "version": "3.8.5"
  }
 },
 "nbformat": 4,
 "nbformat_minor": 4
}
